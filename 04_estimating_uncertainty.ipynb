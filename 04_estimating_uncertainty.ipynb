{
 "cells": [
  {
   "cell_type": "code",
   "execution_count": 27,
   "id": "fe5f5c06-9db2-44fb-9aca-5568353cfc17",
   "metadata": {},
   "outputs": [],
   "source": [
    "import pandas as pd\n",
    "import numpy as np\n",
    "from numpy.linalg import inv\n",
    "\n",
    "import matplotlib.pyplot as plt\n",
    "\n",
    "from tqdm import tqdm"
   ]
  },
  {
   "cell_type": "code",
   "execution_count": 10,
   "id": "cf3fe290-5cee-425a-b8cb-f385b3ce07e7",
   "metadata": {},
   "outputs": [],
   "source": [
    "dat = pd.read_csv('data/01_standard_practice.csv')"
   ]
  },
  {
   "cell_type": "code",
   "execution_count": 17,
   "id": "87952b00-44cb-461c-b85f-9714c62f8577",
   "metadata": {},
   "outputs": [
    {
     "name": "stdout",
     "output_type": "stream",
     "text": [
      "[[ 2.07188189e+02 -1.05427206e+00]\n",
      " [-1.05427206e+00  5.99181008e-03]]\n",
      "==== fit report ====\n",
      "  m = 1.08 +/- 0.08\n",
      "  b = 213.27 +/- 14.39\n"
     ]
    },
    {
     "data": {
      "image/png": "[encoded data removed]",
      "text/plain": [
       "<Figure size 576x360 with 1 Axes>"
      ]
     },
     "metadata": {
      "needs_background": "light"
     },
     "output_type": "display_data"
    }
   ],
   "source": [
    "def linear(x,m,b):\n",
    "    return m*x+b\n",
    "\n",
    "def fit_standard(x, y, sig_y = None):\n",
    "    #if sig_x is None:\n",
    "    #    sig_x = np.zeros(len(x))\n",
    "    #if sig_y is None:\n",
    "    #    sig_y = np.zeros(len(y))\n",
    "        \n",
    "    A = np.array([[1, x[n]] for n in range(len(x))])\n",
    "    C = np.diagflat(sig_y**2)\n",
    "        \n",
    "    cov = inv(A.T @ inv(C) @ A)\n",
    "        \n",
    "    X = cov @ ( A.T @ inv(C) @ y )\n",
    "    \n",
    "    return X, cov\n",
    "\n",
    "x = np.array(dat['x'])\n",
    "sig_x = np.array(dat['sig_x'])\n",
    "y = np.array(dat['y'])\n",
    "sig_y = np.array(dat['sig_y'])\n",
    "\n",
    "X, cov = fit_standard(x, y, sig_y)\n",
    "\n",
    "print(cov)\n",
    "\n",
    "print('==== fit report ====\\n  m = %2.2f +/- %2.2f\\n  b = %2.2f +/- %2.2f' % (X[1], np.sqrt(cov[1][1]), X[0], np.sqrt(cov[0][0])))\n",
    "\n",
    "plt.figure(figsize=(8,5))\n",
    "\n",
    "plt.errorbar(x, y, yerr = sig_y, color = 'black', fmt = 'o')\n",
    "plt.plot(x, linear(x, X[1], X[0]))\n",
    "\n",
    "plt.xlabel('x')\n",
    "plt.ylabel('y')\n",
    "plt.grid()"
   ]
  },
  {
   "cell_type": "code",
   "execution_count": 18,
   "id": "8b31fa99-9fc7-4064-b9df-cd93922ae3e8",
   "metadata": {},
   "outputs": [
    {
     "name": "stdout",
     "output_type": "stream",
     "text": [
      "==== fit report ====\n",
      "  m = 1.08 +/- 0.08 (bootstrap: 0.69)\n",
      "  b = 213.27 +/- 14.39 (bootstrap: 117.75)\n"
     ]
    }
   ],
   "source": [
    "import random\n",
    "\n",
    "def bootstrap_linear(fitter, x, y, M, sig_y = None):        \n",
    "    X_all, cov_all = fitter(x, y, sig_y)\n",
    "    m = X_all[1]\n",
    "    b = X_all[0]\n",
    "    \n",
    "    sig_m = 0\n",
    "    sig_b = 0\n",
    "    sig_mb = 0\n",
    "        \n",
    "    for i in range(M):\n",
    "        tempx = []\n",
    "        tempy = []\n",
    "        tempsigy = []\n",
    "        \n",
    "        for j in range(len(x)):\n",
    "            indx = random.randint(0,len(x)-1)\n",
    "            \n",
    "            tempx.append(x[indx])\n",
    "            tempy.append(y[indx])\n",
    "            tempsigy.append(sig_y[indx])\n",
    "            \n",
    "        X, cov = fitter(np.array(tempx), np.array(tempy), np.array(tempsigy))\n",
    "        m_i = X[1]\n",
    "        b_i = X[0]\n",
    "        \n",
    "        sig_m += (m_i - m)**2\n",
    "        sig_b += (b_i - b)**2\n",
    "        sig_mb += (m_i - m)*(b_i-b)\n",
    "        \n",
    "    cov = np.array([[sig_b / M, sig_mb / M],[sig_mb / M, sig_m / M]])\n",
    "    return X_all, cov, cov_all\n",
    "\n",
    "X, cov, cov_all = (bootstrap_linear(fit_standard, x, y, 15, sig_y))            \n",
    "    \n",
    "print('==== fit report ====\\n  m = %2.2f +/- %2.2f (bootstrap: %2.2f)\\n  b = %2.2f +/- %2.2f (bootstrap: %2.2f)' % (X[1], np.sqrt(cov_all[1][1]), np.sqrt(cov[1][1]), X[0], np.sqrt(cov_all[0][0]), np.sqrt(cov[0][0])))"
   ]
  },
  {
   "cell_type": "code",
   "execution_count": 20,
   "id": "9c79aebf-267b-4afb-809a-51f9281fe645",
   "metadata": {},
   "outputs": [
    {
     "name": "stdout",
     "output_type": "stream",
     "text": [
      "==== fit report ====\n",
      "  m = 1.08 +/- 0.08 (jackknife: 0.87)\n",
      "  b = 213.27 +/- 14.39 (jackknife: 154.99)\n"
     ]
    }
   ],
   "source": [
    "def jackknife_linear(fitter, x, y, sig_y):\n",
    "    X_all, cov_all = fitter(x, y, sig_y)\n",
    "    m = X_all[1]\n",
    "    b = X_all[0]\n",
    "    \n",
    "    N = len(x)\n",
    "    \n",
    "    m_list = []\n",
    "    b_list = []\n",
    "    \n",
    "    for i in range(N):\n",
    "        tempx = np.delete(x, i)\n",
    "        tempy = np.delete(y, i)\n",
    "        tempsigy = np.delete(sig_y, i)\n",
    "                \n",
    "        X, cov = fitter(tempx, tempy, tempsigy)\n",
    "        \n",
    "        m_list.append(X[1])\n",
    "        b_list.append(X[0])\n",
    "        \n",
    "    m = (1 / len(m_list)) * sum(m_list)\n",
    "    b = (1 / len(b_list)) * sum(b_list)\n",
    "    \n",
    "    sig_m = 0\n",
    "    sig_b = 0\n",
    "    sig_mb = 0\n",
    "    \n",
    "    for i in range(len(m_list)):\n",
    "        sig_m += (m_list[i] - m)**2\n",
    "        sig_b += (b_list[i] - b)**2\n",
    "        sig_mb += (m_list[i] - m) * (b_list[i] - b)\n",
    "    \n",
    "    sig_m *= (N - 1) / N\n",
    "    sig_b *= (N - 1) / N\n",
    "    sig_mb *= (N - 1) / N\n",
    "    \n",
    "    cov = np.array([[sig_b, sig_mb],[sig_mb, sig_m]])\n",
    "    return X_all, cov, cov_all\n",
    "\n",
    "X, cov, cov_all = (jackknife_linear(fit_standard, x, y, sig_y))            \n",
    "\n",
    "print('==== fit report ====\\n  m = %2.2f +/- %2.2f (jackknife: %2.2f)\\n  b = %2.2f +/- %2.2f (jackknife: %2.2f)' % (X[1], np.sqrt(cov_all[1][1]), np.sqrt(cov[1][1]), X[0], np.sqrt(cov_all[0][0]), np.sqrt(cov[0][0])))\n",
    "\n",
    "    "
   ]
  },
  {
   "cell_type": "code",
   "execution_count": 24,
   "id": "70b0a903-472c-4c7b-a98c-875cb58a6475",
   "metadata": {},
   "outputs": [],
   "source": [
    "import decimal\n",
    "\n",
    "def linear(x, params):\n",
    "    return params[0] * x + params[1]\n",
    "\n",
    "def gaussian(y, sigma, mu):\n",
    "    return ((1 / np.sqrt(2 * np.pi * sigma**2)) * np.exp( -(y - mu)**2 / (2 * sigma**2) ))\n",
    "\n",
    "def likelihood(func, x, y, sig_y, params):\n",
    "    '''\n",
    "    Inputs:    \n",
    "        y   - the dependent variable array of observed measurements\n",
    "        m   - slope\n",
    "        b   - intercept\n",
    "        P_b - Probability of a bad point\n",
    "        Y_b - mean of distribution of bad points\n",
    "        V_b - variance of distribution of bad points\n",
    "        sig_y - variance in y space\n",
    "        \n",
    "    Outputs:\n",
    "        likelihood = p({y_i} | m, b, P_b, Y_b, V_b, I)\n",
    "    '''\n",
    "    \n",
    "    m = params[0]\n",
    "    b = params[1]\n",
    "    P_b = params[2]\n",
    "    Y_b = params[3]\n",
    "    V_b = params[4]\n",
    "    \n",
    "    likelihood = 1\n",
    "    \n",
    "    for i in range(len(x)):        \n",
    "        foreground = gaussian(y[i], sig_y[i], func(x[i], [m, b]))\n",
    "        background = gaussian(y[i], np.sqrt(V_b + sig_y[i]**2), Y_b)\n",
    "        #print(((1 - P_b) * foreground) + ((P_b) * background))\n",
    "        \n",
    "        likelihood *= ((1 - P_b) * foreground) + ((P_b) * background)\n",
    "        \n",
    "    return likelihood"
   ]
  },
  {
   "cell_type": "code",
   "execution_count": 25,
   "id": "e33af970-c987-465a-bb0f-46f409e60da9",
   "metadata": {},
   "outputs": [],
   "source": [
    "import random\n",
    "import pandas as pd\n",
    "\n",
    "def metropolis_hastings(kernel, func, x, y, sig_y, params, steps = 5000, stepsize = 0.005):\n",
    "    param_set = []\n",
    "        \n",
    "    param_array = []\n",
    "    param_ub = []\n",
    "    param_lb = []\n",
    "        \n",
    "    '''\n",
    "    \n",
    "    Initialize chain\n",
    "    \n",
    "    '''\n",
    "        \n",
    "    for key in params.keys():\n",
    "        param_array.append(params[key][0])\n",
    "        param_ub.append(params[key][1])\n",
    "        param_lb.append(params[key][2])\n",
    "        \n",
    "    likelihood = kernel(func, x, y, sig_y, param_array)\n",
    "    tarr = param_array.copy()\n",
    "    tarr.append(likelihood)    \n",
    "    param_set.append(tarr)\n",
    "    \n",
    "    #print(param_array)\n",
    "    \n",
    "    '''\n",
    "    \n",
    "    Start stepping\n",
    "    \n",
    "    '''\n",
    "    \n",
    "    for i in tqdm(range(steps)):\n",
    "        #print(param_set)\n",
    "        #print(param_array)\n",
    "        prev_param_array = param_array\n",
    "        prev_likelihood = param_set[-1][-1]\n",
    "        \n",
    "        for j in range(len(param_array)):\n",
    "            newparam = random.gauss(prev_param_array[j], stepsize)\n",
    "            if j in [2]:\n",
    "                #print('bleh')\n",
    "                #newparam = random.uniform(param_lb[j], param_ub[j])                \n",
    "                while (newparam < 0) or (newparam > 1):\n",
    "                    newparam = random.gauss(prev_param_array[j], stepsize)\n",
    "                #print('blah')\n",
    "            \n",
    "            param_array[j] = newparam\n",
    "            \n",
    "        likelihood = kernel(func, x, y, sig_y, param_array)\n",
    "        R = random.uniform(0, 1)\n",
    "        \n",
    "        if R < (likelihood / prev_likelihood):\n",
    "            tarr = param_array.copy()\n",
    "            tarr.append(likelihood)\n",
    "            param_set.append(tarr)\n",
    "        else:            \n",
    "            tarr = prev_param_array.copy()\n",
    "            tarr.append(prev_likelihood)\n",
    "            param_set.append(tarr)\n",
    "            \n",
    "    columns = []\n",
    "    for key in params.keys():\n",
    "        columns.append(key)\n",
    "    columns.append('likelihood')\n",
    "            \n",
    "    df = pd.DataFrame(np.array(param_set), columns = columns)\n",
    "    \n",
    "    return df"
   ]
  },
  {
   "cell_type": "code",
   "execution_count": 28,
   "id": "dc762637-6685-43fa-bfbc-a2d236330c07",
   "metadata": {},
   "outputs": [
    {
     "name": "stderr",
     "output_type": "stream",
     "text": [
      "100%|█████████████████████████████████████████████████████████████████████| 5000/5000 [00:02<00:00, 2188.57it/s]\n",
      "100%|█████████████████████████████████████████████████████████████████████| 5000/5000 [00:02<00:00, 2157.70it/s]\n",
      "100%|█████████████████████████████████████████████████████████████████████| 5000/5000 [00:02<00:00, 2243.14it/s]\n",
      "100%|█████████████████████████████████████████████████████████████████████| 5000/5000 [00:02<00:00, 2261.15it/s]\n",
      "100%|█████████████████████████████████████████████████████████████████████| 5000/5000 [00:02<00:00, 2412.93it/s]\n",
      "100%|█████████████████████████████████████████████████████████████████████| 5000/5000 [00:02<00:00, 2393.68it/s]\n",
      "100%|█████████████████████████████████████████████████████████████████████| 5000/5000 [00:02<00:00, 2408.82it/s]\n",
      "100%|█████████████████████████████████████████████████████████████████████| 5000/5000 [00:02<00:00, 2327.57it/s]\n",
      "100%|█████████████████████████████████████████████████████████████████████| 5000/5000 [00:02<00:00, 2473.78it/s]\n",
      "100%|█████████████████████████████████████████████████████████████████████| 5000/5000 [00:01<00:00, 2523.32it/s]\n",
      "100%|█████████████████████████████████████████████████████████████████████| 5000/5000 [00:01<00:00, 2541.19it/s]\n",
      "100%|█████████████████████████████████████████████████████████████████████| 5000/5000 [00:02<00:00, 2461.38it/s]\n",
      "100%|█████████████████████████████████████████████████████████████████████| 5000/5000 [00:02<00:00, 2404.46it/s]\n",
      "100%|█████████████████████████████████████████████████████████████████████| 5000/5000 [00:02<00:00, 2280.50it/s]\n",
      "100%|█████████████████████████████████████████████████████████████████████| 5000/5000 [00:02<00:00, 2318.29it/s]\n",
      "100%|█████████████████████████████████████████████████████████████████████| 5000/5000 [00:02<00:00, 2474.98it/s]"
     ]
    },
    {
     "name": "stdout",
     "output_type": "stream",
     "text": [
      "==== fit report ====\n",
      "  m = 2.07 +/- 0.20\n",
      "  b = 30.50 +/- 0.57\n"
     ]
    },
    {
     "name": "stderr",
     "output_type": "stream",
     "text": [
      "\n"
     ]
    }
   ],
   "source": [
    "def get_params(kernel, func, x, y, sig_y, params, steps = 5000, stepsize = 0.005):\n",
    "    df = metropolis_hastings(kernel, func, x, y, sig_y, params, steps, stepsize)\n",
    "    \n",
    "    m = np.mean(df['m'])\n",
    "    b = np.mean(df['b'])\n",
    "    \n",
    "    return m, b, df\n",
    "\n",
    "\n",
    "\n",
    "def bootstrap_mh(fitter, kernel, function, x, y, M, sig_y, params, steps = 5000, stepsize = 0.005):        \n",
    "    m, b, df_all = fitter(kernel, function, x, y, sig_y, params, steps, stepsize)\n",
    "    \n",
    "    sig_m = 0\n",
    "    sig_b = 0\n",
    "    sig_mb = 0\n",
    "        \n",
    "    for i in range(M):\n",
    "        tempx = []\n",
    "        tempy = []\n",
    "        tempsigy = []\n",
    "        \n",
    "        for j in range(len(x)):\n",
    "            indx = random.randint(0,len(x)-1)\n",
    "            \n",
    "            tempx.append(x[indx])\n",
    "            tempy.append(y[indx])\n",
    "            tempsigy.append(sig_y[indx])\n",
    "            \n",
    "        m_i, b_i, df_i = fitter(kernel, function, x, y, sig_y, params, steps, stepsize)\n",
    "        \n",
    "        sig_m += (m_i - m)**2\n",
    "        sig_b += (b_i - b)**2\n",
    "        sig_mb += (m_i - m)*(b_i-b)\n",
    "        \n",
    "    cov = np.array([[sig_b / M, sig_mb / M],[sig_mb / M, sig_m / M]])\n",
    "    return m, b, cov\n",
    "\n",
    "params = {'m' : np.array([2, 0, 5]),\n",
    "            'b' : np.array([30, 20, 40]),\n",
    "            'P_b' : np.array([0.1, 0, 1]),\n",
    "            'Y_b' : np.array([0, -100, 100]),\n",
    "            'V_b' : np.array([10, -100, 100])}\n",
    "\n",
    "m, b, cov = bootstrap_mh(get_params, likelihood, linear, x, y, 15, sig_y, params)\n",
    "\n",
    "print('==== fit report ====\\n  m = %2.2f +/- %2.2f\\n  b = %2.2f +/- %2.2f' % (m, np.sqrt(cov[1][1]), b, np.sqrt(cov[0][0])))"
   ]
  },
  {
   "cell_type": "code",
   "execution_count": 29,
   "id": "cdfe10e4-c107-484f-a57f-d91a5314a2a2",
   "metadata": {},
   "outputs": [
    {
     "name": "stderr",
     "output_type": "stream",
     "text": [
      "100%|█████████████████████████████████████████████████████████████████████| 5000/5000 [00:02<00:00, 2414.32it/s]\n",
      "100%|█████████████████████████████████████████████████████████████████████| 5000/5000 [00:02<00:00, 2403.64it/s]\n",
      "100%|█████████████████████████████████████████████████████████████████████| 5000/5000 [00:01<00:00, 2504.46it/s]\n",
      "100%|█████████████████████████████████████████████████████████████████████| 5000/5000 [00:02<00:00, 2338.48it/s]\n",
      "100%|█████████████████████████████████████████████████████████████████████| 5000/5000 [00:02<00:00, 2375.69it/s]\n",
      "100%|█████████████████████████████████████████████████████████████████████| 5000/5000 [00:02<00:00, 2233.85it/s]\n",
      "100%|█████████████████████████████████████████████████████████████████████| 5000/5000 [00:02<00:00, 2415.66it/s]\n",
      "100%|█████████████████████████████████████████████████████████████████████| 5000/5000 [00:02<00:00, 2386.33it/s]\n",
      "100%|█████████████████████████████████████████████████████████████████████| 5000/5000 [00:02<00:00, 2390.08it/s]\n",
      "100%|█████████████████████████████████████████████████████████████████████| 5000/5000 [00:02<00:00, 2457.35it/s]\n",
      "100%|█████████████████████████████████████████████████████████████████████| 5000/5000 [00:02<00:00, 2464.20it/s]\n",
      "100%|█████████████████████████████████████████████████████████████████████| 5000/5000 [00:02<00:00, 2334.99it/s]\n",
      "100%|█████████████████████████████████████████████████████████████████████| 5000/5000 [00:02<00:00, 2369.93it/s]\n",
      "100%|█████████████████████████████████████████████████████████████████████| 5000/5000 [00:02<00:00, 2363.91it/s]\n",
      "100%|█████████████████████████████████████████████████████████████████████| 5000/5000 [00:02<00:00, 2421.86it/s]\n",
      "100%|█████████████████████████████████████████████████████████████████████| 5000/5000 [00:02<00:00, 2405.21it/s]\n",
      "100%|█████████████████████████████████████████████████████████████████████| 5000/5000 [00:02<00:00, 2303.82it/s]\n",
      "100%|█████████████████████████████████████████████████████████████████████| 5000/5000 [00:02<00:00, 2308.57it/s]\n",
      "100%|█████████████████████████████████████████████████████████████████████| 5000/5000 [00:02<00:00, 2371.52it/s]\n",
      "100%|█████████████████████████████████████████████████████████████████████| 5000/5000 [00:02<00:00, 2359.31it/s]\n",
      "100%|█████████████████████████████████████████████████████████████████████| 5000/5000 [00:02<00:00, 2405.34it/s]"
     ]
    },
    {
     "name": "stdout",
     "output_type": "stream",
     "text": [
      "==== fit report ====\n",
      "  m = 1.99 +/- 0.85\n",
      "  b = 30.01 +/- 1.04\n"
     ]
    },
    {
     "name": "stderr",
     "output_type": "stream",
     "text": [
      "\n"
     ]
    }
   ],
   "source": [
    "def jackknife(fitter, kernel, function, x, y, sig_y, params, steps = 5000, stepsize = 0.005):        \n",
    "    m, b, df_all = fitter(kernel, function, x, y, sig_y, params, steps, stepsize)    \n",
    "    N = len(x)\n",
    "    \n",
    "    m_list = []\n",
    "    b_list = []\n",
    "    \n",
    "    for i in range(N):\n",
    "        tempx = np.delete(x, i)\n",
    "        tempy = np.delete(y, i)\n",
    "        tempsigy = np.delete(sig_y, i)\n",
    "        \n",
    "        m_i, b_i, df = fitter(kernel, function, x, y, sig_y, params, steps, stepsize)\n",
    "        m_list.append(m_i)\n",
    "        b_list.append(b_i)\n",
    "        \n",
    "    m = (1 / len(m_list)) * sum(m_list)\n",
    "    b = (1 / len(b_list)) * sum(b_list)\n",
    "    \n",
    "    sig_m = 0\n",
    "    sig_b = 0\n",
    "    sig_mb = 0\n",
    "    \n",
    "    for i in range(len(m_list)):\n",
    "        sig_m += (m_list[i] - m)**2\n",
    "        sig_b += (b_list[i] - b)**2\n",
    "        sig_mb += (m_list[i] - m) * (b_list[i] - b)\n",
    "    \n",
    "    sig_m *= (N - 1) / N\n",
    "    sig_b *= (N - 1) / N\n",
    "    sig_mb *= (N - 1) / N\n",
    "    \n",
    "    cov = np.array([[sig_b, sig_mb],[sig_mb, sig_m]])\n",
    "    return m, b, cov\n",
    "\n",
    "m, b, cov = jackknife(get_params, likelihood, linear, x, y, sig_y, params)\n",
    "\n",
    "print('==== fit report ====\\n  m = %2.2f +/- %2.2f\\n  b = %2.2f +/- %2.2f' % (m, np.sqrt(cov[1][1]), b, np.sqrt(cov[0][0])))"
   ]
  },
  {
   "cell_type": "code",
   "execution_count": 44,
   "id": "417a525e-e341-408b-ad01-550b88017447",
   "metadata": {},
   "outputs": [
    {
     "name": "stderr",
     "output_type": "stream",
     "text": [
      "100%|█████████████████████████████████████████████████████████████████████| 5000/5000 [00:01<00:00, 3050.45it/s]\n",
      "100%|█████████████████████████████████████████████████████████████████████| 5000/5000 [00:01<00:00, 3614.29it/s]\n"
     ]
    }
   ],
   "source": [
    "df_1 = metropolis_hastings(likelihood, linear, x[5:], y[5:], sig_y[5:], params)\n",
    "df_2 = metropolis_hastings(likelihood, linear, x[5:], y[5:], sig_y[5:]/2, params)"
   ]
  },
  {
   "cell_type": "code",
   "execution_count": 45,
   "id": "9337c40d-29e7-48dc-8767-bdff245d8fbe",
   "metadata": {},
   "outputs": [
    {
     "data": {
      "text/plain": [
       "<matplotlib.colorbar.Colorbar at 0x7f666c845700>"
      ]
     },
     "execution_count": 45,
     "metadata": {},
     "output_type": "execute_result"
    },
    {
     "data": {
      "image/png": "[encoded data removed]",
      "text/plain": [
       "<Figure size 576x360 with 2 Axes>"
      ]
     },
     "metadata": {
      "needs_background": "light"
     },
     "output_type": "display_data"
    }
   ],
   "source": [
    "likelihoods = df_1['likelihood']\n",
    "m = df_1['m']\n",
    "b = df_1['b']\n",
    "\n",
    "y_min = np.min(m)\n",
    "y_max = np.max(m)\n",
    "\n",
    "x_min = np.min(b)\n",
    "x_max = np.max(b)\n",
    "\n",
    "x_bins = np.linspace(x_min, x_max, 50)\n",
    "y_bins = np.linspace(y_min, y_max, 50)\n",
    "\n",
    "plt.figure(figsize=(8,5))\n",
    "\n",
    "#plt.xlim(-100, 100)\n",
    "#plt.ylim(1.5, 3)\n",
    "plt.hist2d(b, m, bins =[x_bins, y_bins])\n",
    "plt.title(\"Fit Parameter Histogram\")\n",
    "\n",
    "plt.xlabel('b')\n",
    "plt.ylabel('m')\n",
    "plt.grid()\n",
    "plt.colorbar()"
   ]
  },
  {
   "cell_type": "code",
   "execution_count": 46,
   "id": "1dfc2c02-1d8b-41d4-8294-6428e0a172d6",
   "metadata": {},
   "outputs": [
    {
     "data": {
      "image/png": "[encoded data removed]",
      "text/plain": [
       "<Figure size 1440x360 with 2 Axes>"
      ]
     },
     "metadata": {
      "needs_background": "light"
     },
     "output_type": "display_data"
    }
   ],
   "source": [
    "plt.figure(figsize=(20,5))\n",
    "plt.subplot(1, 2, 1)\n",
    "plt.hist(m, bins = 25)\n",
    "#plt.title(\"Using Correct Data Uncertainties\")\n",
    "plt.xlabel(r'$m$')\n",
    "plt.grid()\n",
    "\n",
    "plt.subplot(1, 2, 2)\n",
    "plt.hist(b, bins = 25)\n",
    "#plt.title(\"Using Data Uncertainties / 2\")\n",
    "plt.xlabel(r'$b$')\n",
    "plt.grid()"
   ]
  },
  {
   "cell_type": "code",
   "execution_count": 47,
   "id": "eb664e03-c6d5-4615-8df6-40350f244958",
   "metadata": {},
   "outputs": [
    {
     "data": {
      "text/plain": [
       "<matplotlib.colorbar.Colorbar at 0x7f666c2e1190>"
      ]
     },
     "execution_count": 47,
     "metadata": {},
     "output_type": "execute_result"
    },
    {
     "data": {
      "image/png": "[encoded data removed]",
      "text/plain": [
       "<Figure size 576x360 with 2 Axes>"
      ]
     },
     "metadata": {
      "needs_background": "light"
     },
     "output_type": "display_data"
    }
   ],
   "source": [
    "likelihoods = df_2['likelihood']\n",
    "m = df_2['m']\n",
    "b = df_2['b']\n",
    "\n",
    "y_min = np.min(m)\n",
    "y_max = np.max(m)\n",
    "\n",
    "x_min = np.min(b)\n",
    "x_max = np.max(b)\n",
    "\n",
    "x_bins = np.linspace(x_min, x_max, 50)\n",
    "y_bins = np.linspace(y_min, y_max, 50)\n",
    "\n",
    "plt.figure(figsize=(8,5))\n",
    "\n",
    "#plt.xlim(-100, 100)\n",
    "#plt.ylim(1.5, 3)\n",
    "plt.hist2d(b, m, bins =[x_bins, y_bins])\n",
    "plt.title(\"Fit Parameter Histogram\")\n",
    "\n",
    "plt.xlabel('b')\n",
    "plt.ylabel('m')\n",
    "plt.grid()\n",
    "plt.colorbar()"
   ]
  },
  {
   "cell_type": "code",
   "execution_count": 48,
   "id": "f52b4b9e-d883-4b2e-8873-1c3ccb3bad6e",
   "metadata": {},
   "outputs": [
    {
     "data": {
      "image/png": "[encoded data removed]",
      "text/plain": [
       "<Figure size 1440x360 with 2 Axes>"
      ]
     },
     "metadata": {
      "needs_background": "light"
     },
     "output_type": "display_data"
    }
   ],
   "source": [
    "plt.figure(figsize=(20,5))\n",
    "plt.subplot(1, 2, 1)\n",
    "plt.hist(m, bins = 25)\n",
    "#plt.title(\"Using Correct Data Uncertainties\")\n",
    "plt.xlabel(r'$m$')\n",
    "plt.grid()\n",
    "\n",
    "plt.subplot(1, 2, 2)\n",
    "plt.hist(b, bins = 25)\n",
    "#plt.title(\"Using Data Uncertainties / 2\")\n",
    "plt.xlabel(r'$b$')\n",
    "plt.grid()"
   ]
  },
  {
   "cell_type": "code",
   "execution_count": null,
   "id": "49d658a5-d9ee-4d1b-a3e3-4e66d1654751",
   "metadata": {},
   "outputs": [],
   "source": []
  }
 ],
 "metadata": {
  "kernelspec": {
   "display_name": "Python 3 (ipykernel)",
   "language": "python",
   "name": "python3"
  },
  "language_info": {
   "codemirror_mode": {
    "name": "ipython",
    "version": 3
   },
   "file_extension": ".py",
   "mimetype": "text/x-python",
   "name": "python",
   "nbconvert_exporter": "python",
   "pygments_lexer": "ipython3",
   "version": "3.8.3"
  }
 },
 "nbformat": 4,
 "nbformat_minor": 5
}
