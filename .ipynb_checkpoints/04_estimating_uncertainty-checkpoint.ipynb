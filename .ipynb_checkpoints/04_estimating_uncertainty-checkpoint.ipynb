{
 "cells": [
  {
   "cell_type": "code",
   "execution_count": 1,
   "id": "fe5f5c06-9db2-44fb-9aca-5568353cfc17",
   "metadata": {},
   "outputs": [],
   "source": [
    "import pandas as pd\n",
    "import numpy as np\n",
    "from numpy.linalg import inv\n",
    "\n",
    "import matplotlib.pyplot as plt"
   ]
  },
  {
   "cell_type": "code",
   "execution_count": 2,
   "id": "cf3fe290-5cee-425a-b8cb-f385b3ce07e7",
   "metadata": {},
   "outputs": [],
   "source": [
    "dat = pd.read_csv('data/01_standard_practice.csv')"
   ]
  },
  {
   "cell_type": "code",
   "execution_count": 3,
   "id": "87952b00-44cb-461c-b85f-9714c62f8577",
   "metadata": {},
   "outputs": [
    {
     "name": "stdout",
     "output_type": "stream",
     "text": [
      "==== fit report ====\n",
      "  m = 2.24 +/- 0.11\n",
      "  b = 34.05 +/- 18.25\n"
     ]
    },
    {
     "data": {
      "image/png": "[encoded data removed]",
      "text/plain": [
       "<Figure size 576x360 with 1 Axes>"
      ]
     },
     "metadata": {
      "needs_background": "light"
     },
     "output_type": "display_data"
    }
   ],
   "source": [
    "def linear(x,m,b):\n",
    "    return m*x+b\n",
    "\n",
    "def fit_standard(x, y, sig_x = None, sig_y = None):\n",
    "    if sig_x is None:\n",
    "        sig_x = np.zeros(len(x))\n",
    "    if sig_y is None:\n",
    "        sig_y = np.zeros(len(y))\n",
    "        \n",
    "    A = np.array([[1, x[n]] for n in range(len(x))])\n",
    "    C = np.diagflat(sig_y**2)\n",
    "        \n",
    "    cov = inv(A.T @ inv(C) @ A)\n",
    "        \n",
    "    X = cov @ ( A.T @ inv(C) @ y )\n",
    "    \n",
    "    return X, cov\n",
    "\n",
    "x = np.array(dat['x'][4:])\n",
    "sig_x = np.array(dat['sig_x'][4:])\n",
    "y = np.array(dat['y'][4:])\n",
    "sig_y = np.array(dat['sig_y'][4:])\n",
    "\n",
    "X, cov = fit_standard(x, y, sig_x, sig_y)\n",
    "\n",
    "print('==== fit report ====\\n  m = %2.2f +/- %2.2f\\n  b = %2.2f +/- %2.2f' % (X[1], np.sqrt(cov[1][1]), X[0], np.sqrt(cov[0][0])))\n",
    "\n",
    "plt.figure(figsize=(8,5))\n",
    "\n",
    "plt.errorbar(x, y, yerr = sig_y, color = 'black', fmt = 'o')\n",
    "plt.plot(x, linear(x, X[1], X[0]))\n",
    "\n",
    "plt.xlabel('x')\n",
    "plt.ylabel('y')\n",
    "plt.grid()"
   ]
  },
  {
   "cell_type": "code",
   "execution_count": null,
   "id": "8b31fa99-9fc7-4064-b9df-cd93922ae3e8",
   "metadata": {},
   "outputs": [],
   "source": []
  }
 ],
 "metadata": {
  "kernelspec": {
   "display_name": "Python 3 (ipykernel)",
   "language": "python",
   "name": "python3"
  },
  "language_info": {
   "codemirror_mode": {
    "name": "ipython",
    "version": 3
   },
   "file_extension": ".py",
   "mimetype": "text/x-python",
   "name": "python",
   "nbconvert_exporter": "python",
   "pygments_lexer": "ipython3",
   "version": "3.8.3"
  }
 },
 "nbformat": 4,
 "nbformat_minor": 5
}
